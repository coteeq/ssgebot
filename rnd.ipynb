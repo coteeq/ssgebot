{
 "cells": [
  {
   "cell_type": "code",
   "execution_count": 124,
   "metadata": {},
   "outputs": [],
   "source": [
    "import requests\n",
    "\n",
    "\n",
    "url = \"\"\"https://ss.ge/en/real-estate/l/Flat/For-Rent?Sort.SortExpression=%22OrderDate%22%20DESC&RealEstateTypeId=5&RealEstateDealTypeId=1&MunicipalityId=95&CityIdList=95&subdistr=20,21,22,23,51,52&PrcSource=2&CommercialRealEstateType=&QuantityFrom=50&PriceType=false&CurrencyId=2&PriceTo=1200&Context.Request.Query[Query]=&WithImageOnly=true&BedroomsFrom=2&AdditionalInformation=Heating,Internet,Furniture,Hot%20water,Washing%20machine\"\"\"\n",
    "# url = \"https://ss.ge/en/real-estate/3-room-flat-for-rent-sololaki-5682059\"\n",
    "with requests.Session() as s:\n",
    "#     s.cookies[\"CurrencyId\"] = \"2\"\n",
    "    resp = s.get(url)"
   ]
  },
  {
   "cell_type": "code",
   "execution_count": 126,
   "metadata": {},
   "outputs": [],
   "source": [
    "from bs4 import BeautifulSoup \n",
    "\n",
    "soup = BeautifulSoup(resp.text)"
   ]
  },
  {
   "cell_type": "code",
   "execution_count": 127,
   "metadata": {
    "scrolled": false
   },
   "outputs": [
    {
     "name": "stdout",
     "output_type": "stream",
     "text": [
      "https://static.ss.ge/20221015/2_cc1cb50a-7057-44c2-8f9d-8e21871d8115_Thumb.jpg\n",
      "https://static.ss.ge/20221015/18_99af14bf-038a-432f-9002-ec571402f19b_Thumb.jpg\n",
      "https://static.ss.ge/20221015/19_b34d86d0-7972-46a2-86c7-a305568d3e35_Thumb.jpg\n",
      "https://static.ss.ge/20221015/12_584ef39a-123c-42f7-b643-24296519649a_Thumb.jpg\n"
     ]
    }
   ],
   "source": [
    "one = soup.find_all(class_=\"latest_article_each_in\")[0].find_all(class_=\"DesktopArticleLayout\")[0]\n",
    "for img in one.find_all(\"img\"):\n",
    "    try:\n",
    "        print(img[\"data-src\"])\n",
    "    except: pass"
   ]
  },
  {
   "cell_type": "code",
   "execution_count": 138,
   "metadata": {
    "scrolled": false
   },
   "outputs": [
    {
     "data": {
      "text/plain": [
       "'3 room Flat for rent.  Sololaki'"
      ]
     },
     "execution_count": 138,
     "metadata": {},
     "output_type": "execute_result"
    }
   ],
   "source": [
    "one.find_all(class_=\"TiTleSpanList\")[0].contents[0].strip()\n",
    "# one.find_all(class_=\"StreeTaddressList\")[0].a.contents[0].strip()\n",
    "# one.find_all(class_=\"latest_flat_km\")[0].contents[0].strip()\n",
    "# one.find_all(class_=\"latest_flat_type\")[0].contents[0].strip()\n",
    "# one.find_all(class_=\"latest_stair_count\")[0].contents[0].strip()\n",
    "# one.find_all(class_=\"add_time\")[0].contents[0].strip()\n",
    "# price = one.find_all(class_=\"latest_price\")"
   ]
  },
  {
   "cell_type": "code",
   "execution_count": 137,
   "metadata": {},
   "outputs": [
    {
     "data": {
      "text/plain": [
       "'/en/real-estate/3-room-flat-for-rent-sololaki-5682059'"
      ]
     },
     "execution_count": 137,
     "metadata": {},
     "output_type": "execute_result"
    }
   ],
   "source": [
    "one.div.a[\"href\"]"
   ]
  },
  {
   "cell_type": "code",
   "execution_count": 135,
   "metadata": {},
   "outputs": [
    {
     "data": {
      "text/plain": [
       "'1200'"
      ]
     },
     "execution_count": 135,
     "metadata": {},
     "output_type": "execute_result"
    }
   ],
   "source": [
    "price[1].contents[0].strip().replace(' ', '')"
   ]
  },
  {
   "cell_type": "code",
   "execution_count": 112,
   "metadata": {},
   "outputs": [
    {
     "data": {
      "text/plain": [
       "Cookie(version=0, name='RealEstateDealType', value='For%20Rent', port=None, port_specified=False, domain='ss.ge', domain_specified=False, domain_initial_dot=False, path='/', path_specified=True, secure=False, expires=1670002994, discard=False, comment=None, comment_url=None, rest={}, rfc2109=False)"
      ]
     },
     "execution_count": 112,
     "metadata": {},
     "output_type": "execute_result"
    }
   ],
   "source": [
    "list(resp.cookies)[3]"
   ]
  }
 ],
 "metadata": {
  "kernelspec": {
   "display_name": "Python 3 (ipykernel)",
   "language": "python",
   "name": "python3"
  },
  "language_info": {
   "codemirror_mode": {
    "name": "ipython",
    "version": 3
   },
   "file_extension": ".py",
   "mimetype": "text/x-python",
   "name": "python",
   "nbconvert_exporter": "python",
   "pygments_lexer": "ipython3",
   "version": "3.9.6"
  },
  "vscode": {
   "interpreter": {
    "hash": "a87c18444e6758b80737380024a4f13164b9f30768c5bafd2656cb2a929fc5d6"
   }
  }
 },
 "nbformat": 4,
 "nbformat_minor": 2
}
